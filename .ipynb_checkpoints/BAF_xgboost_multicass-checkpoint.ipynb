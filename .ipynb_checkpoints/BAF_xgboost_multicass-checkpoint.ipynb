{
 "cells": [
  {
   "cell_type": "markdown",
   "metadata": {},
   "source": [
    "### Preámbulo de paquetes a utilizarse"
   ]
  },
  {
   "cell_type": "code",
   "execution_count": null,
   "metadata": {},
   "outputs": [],
   "source": [
    "import pandas as pd\n",
    "import numpy as np\n",
    "import xgboost as xgb"
   ]
  },
  {
   "cell_type": "markdown",
   "metadata": {},
   "source": [
    "### Carga de datos de penetracion BAF y municipios"
   ]
  },
  {
   "cell_type": "code",
   "execution_count": 1,
   "metadata": {},
   "outputs": [
    {
     "ename": "NameError",
     "evalue": "name 'pd' is not defined",
     "output_type": "error",
     "traceback": [
      "\u001b[0;31m---------------------------------------------------------------------------\u001b[0m",
      "\u001b[0;31mNameError\u001b[0m                                 Traceback (most recent call last)",
      "\u001b[0;32m<ipython-input-1-232408b0440f>\u001b[0m in \u001b[0;36m<module>\u001b[0;34m\u001b[0m\n\u001b[0;32m----> 1\u001b[0;31m \u001b[0mdata\u001b[0m \u001b[0;34m=\u001b[0m \u001b[0mpd\u001b[0m\u001b[0;34m.\u001b[0m\u001b[0mread_csv\u001b[0m \u001b[0;34m(\u001b[0m\u001b[0;34m'BAF_06209_selected.csv'\u001b[0m\u001b[0;34m)\u001b[0m\u001b[0;34m\u001b[0m\u001b[0;34m\u001b[0m\u001b[0m\n\u001b[0m\u001b[1;32m      2\u001b[0m \u001b[0mdata\u001b[0m\u001b[0;34m\u001b[0m\u001b[0;34m\u001b[0m\u001b[0m\n",
      "\u001b[0;31mNameError\u001b[0m: name 'pd' is not defined"
     ]
    }
   ],
   "source": [
    "data = pd.read_csv ('BAF_06209_selected.csv')\n",
    "data"
   ]
  },
  {
   "cell_type": "code",
   "execution_count": 51,
   "metadata": {},
   "outputs": [],
   "source": [
    "sz = data.shape\n",
    "m,n = sz"
   ]
  },
  {
   "cell_type": "markdown",
   "metadata": {},
   "source": [
    "### Preparamos los datos para entrenamiento y prueba"
   ]
  },
  {
   "cell_type": "code",
   "execution_count": 52,
   "metadata": {},
   "outputs": [],
   "source": [
    "train = data.iloc[:int(sz[0] * 0.8), :]\n",
    "test = data.iloc[int(sz[0] * 0.8):, :]\n",
    "\n",
    "train_X = train.iloc[:, :n-2]\n",
    "train_Y = train.iloc[:, n-1]\n",
    "\n",
    "test_X = test.iloc[:, :n-2]\n",
    "test_Y = test.iloc[:, n-1]\n",
    "\n",
    "xg_train = xgb.DMatrix(train_X, label=train_Y)\n",
    "xg_test = xgb.DMatrix(test_X, label=test_Y)"
   ]
  },
  {
   "cell_type": "markdown",
   "metadata": {},
   "source": [
    "### Parámetros para xgboost"
   ]
  },
  {
   "cell_type": "code",
   "execution_count": 53,
   "metadata": {
    "scrolled": true
   },
   "outputs": [],
   "source": [
    "# setup parameters for xgboost\n",
    "param = {}\n",
    "# use softmax multi-class classification\n",
    "param['objective'] = 'multi:softmax'\n",
    "# scale weight of positive examples\n",
    "param['eta'] = 0.3\n",
    "param['gamma'] = 0.5\n",
    "param['max_depth'] = 10\n",
    "subsample=0.8,\n",
    "param['silent'] = 1\n",
    "param['nthread'] = 10\n",
    "param['num_class'] = 6\n",
    "\n",
    "watchlist = [(xg_train, 'train'), (xg_test, 'test')]\n",
    "num_round = 50"
   ]
  },
  {
   "cell_type": "markdown",
   "metadata": {},
   "source": [
    "### Entrenamiento y evaluación de predicciones"
   ]
  },
  {
   "cell_type": "code",
   "execution_count": 54,
   "metadata": {},
   "outputs": [
    {
     "name": "stdout",
     "output_type": "stream",
     "text": [
      "[0]\ttrain-merror:0.077823\ttest-merror:0.158537\n",
      "[1]\ttrain-merror:0.062055\ttest-merror:0.156504\n",
      "[2]\ttrain-merror:0.04527\ttest-merror:0.156504\n",
      "[3]\ttrain-merror:0.038149\ttest-merror:0.150407\n",
      "[4]\ttrain-merror:0.030519\ttest-merror:0.156504\n",
      "[5]\ttrain-merror:0.021872\ttest-merror:0.152439\n",
      "[6]\ttrain-merror:0.019329\ttest-merror:0.150407\n",
      "[7]\ttrain-merror:0.016277\ttest-merror:0.152439\n",
      "[8]\ttrain-merror:0.014751\ttest-merror:0.152439\n",
      "[9]\ttrain-merror:0.012716\ttest-merror:0.144309\n",
      "[10]\ttrain-merror:0.011699\ttest-merror:0.142276\n",
      "[11]\ttrain-merror:0.009156\ttest-merror:0.140244\n",
      "[12]\ttrain-merror:0.008647\ttest-merror:0.140244\n",
      "[13]\ttrain-merror:0.008647\ttest-merror:0.140244\n",
      "[14]\ttrain-merror:0.008138\ttest-merror:0.138211\n",
      "[15]\ttrain-merror:0.005595\ttest-merror:0.138211\n",
      "[16]\ttrain-merror:0.005595\ttest-merror:0.138211\n",
      "[17]\ttrain-merror:0.004069\ttest-merror:0.142276\n",
      "[18]\ttrain-merror:0.004069\ttest-merror:0.144309\n",
      "[19]\ttrain-merror:0.003561\ttest-merror:0.142276\n",
      "[20]\ttrain-merror:0.003052\ttest-merror:0.144309\n",
      "[21]\ttrain-merror:0.003052\ttest-merror:0.144309\n",
      "[22]\ttrain-merror:0.003561\ttest-merror:0.142276\n",
      "[23]\ttrain-merror:0.002543\ttest-merror:0.144309\n",
      "[24]\ttrain-merror:0.002543\ttest-merror:0.142276\n",
      "[25]\ttrain-merror:0.002035\ttest-merror:0.144309\n",
      "[26]\ttrain-merror:0.002035\ttest-merror:0.144309\n",
      "[27]\ttrain-merror:0.002035\ttest-merror:0.150407\n",
      "[28]\ttrain-merror:0.002543\ttest-merror:0.150407\n",
      "[29]\ttrain-merror:0.002543\ttest-merror:0.150407\n",
      "[30]\ttrain-merror:0.002035\ttest-merror:0.148374\n",
      "[31]\ttrain-merror:0.002035\ttest-merror:0.148374\n",
      "[32]\ttrain-merror:0.002035\ttest-merror:0.146341\n",
      "[33]\ttrain-merror:0.001526\ttest-merror:0.148374\n",
      "[34]\ttrain-merror:0.002035\ttest-merror:0.148374\n",
      "[35]\ttrain-merror:0.002035\ttest-merror:0.148374\n",
      "[36]\ttrain-merror:0.002035\ttest-merror:0.148374\n",
      "[37]\ttrain-merror:0.002035\ttest-merror:0.146341\n",
      "[38]\ttrain-merror:0.001526\ttest-merror:0.150407\n",
      "[39]\ttrain-merror:0.001526\ttest-merror:0.148374\n",
      "[40]\ttrain-merror:0.001526\ttest-merror:0.148374\n",
      "[41]\ttrain-merror:0.001526\ttest-merror:0.148374\n",
      "[42]\ttrain-merror:0.001526\ttest-merror:0.148374\n",
      "[43]\ttrain-merror:0.001526\ttest-merror:0.144309\n",
      "[44]\ttrain-merror:0.001526\ttest-merror:0.144309\n",
      "[45]\ttrain-merror:0.001526\ttest-merror:0.142276\n",
      "[46]\ttrain-merror:0.001526\ttest-merror:0.142276\n",
      "[47]\ttrain-merror:0.001526\ttest-merror:0.142276\n",
      "[48]\ttrain-merror:0.001526\ttest-merror:0.144309\n",
      "[49]\ttrain-merror:0.001526\ttest-merror:0.144309\n",
      "Test error using softmax = 0.1443089430894309\n",
      "[0]\ttrain-merror:0.077823\ttest-merror:0.158537\n",
      "[1]\ttrain-merror:0.062055\ttest-merror:0.156504\n",
      "[2]\ttrain-merror:0.04527\ttest-merror:0.156504\n",
      "[3]\ttrain-merror:0.038149\ttest-merror:0.150407\n",
      "[4]\ttrain-merror:0.030519\ttest-merror:0.156504\n",
      "[5]\ttrain-merror:0.021872\ttest-merror:0.152439\n",
      "[6]\ttrain-merror:0.019329\ttest-merror:0.150407\n",
      "[7]\ttrain-merror:0.016277\ttest-merror:0.152439\n",
      "[8]\ttrain-merror:0.014751\ttest-merror:0.152439\n",
      "[9]\ttrain-merror:0.012716\ttest-merror:0.144309\n",
      "[10]\ttrain-merror:0.011699\ttest-merror:0.142276\n",
      "[11]\ttrain-merror:0.009156\ttest-merror:0.140244\n",
      "[12]\ttrain-merror:0.008647\ttest-merror:0.140244\n",
      "[13]\ttrain-merror:0.008647\ttest-merror:0.140244\n",
      "[14]\ttrain-merror:0.008138\ttest-merror:0.138211\n",
      "[15]\ttrain-merror:0.005595\ttest-merror:0.138211\n",
      "[16]\ttrain-merror:0.005595\ttest-merror:0.138211\n",
      "[17]\ttrain-merror:0.004069\ttest-merror:0.142276\n",
      "[18]\ttrain-merror:0.004069\ttest-merror:0.144309\n",
      "[19]\ttrain-merror:0.003561\ttest-merror:0.142276\n",
      "[20]\ttrain-merror:0.003052\ttest-merror:0.144309\n",
      "[21]\ttrain-merror:0.003052\ttest-merror:0.144309\n",
      "[22]\ttrain-merror:0.003561\ttest-merror:0.142276\n",
      "[23]\ttrain-merror:0.002543\ttest-merror:0.144309\n",
      "[24]\ttrain-merror:0.002543\ttest-merror:0.142276\n",
      "[25]\ttrain-merror:0.002035\ttest-merror:0.144309\n",
      "[26]\ttrain-merror:0.002035\ttest-merror:0.144309\n",
      "[27]\ttrain-merror:0.002035\ttest-merror:0.150407\n",
      "[28]\ttrain-merror:0.002543\ttest-merror:0.150407\n",
      "[29]\ttrain-merror:0.002543\ttest-merror:0.150407\n",
      "[30]\ttrain-merror:0.002035\ttest-merror:0.148374\n",
      "[31]\ttrain-merror:0.002035\ttest-merror:0.148374\n",
      "[32]\ttrain-merror:0.002035\ttest-merror:0.146341\n",
      "[33]\ttrain-merror:0.001526\ttest-merror:0.148374\n",
      "[34]\ttrain-merror:0.002035\ttest-merror:0.148374\n",
      "[35]\ttrain-merror:0.002035\ttest-merror:0.148374\n",
      "[36]\ttrain-merror:0.002035\ttest-merror:0.148374\n",
      "[37]\ttrain-merror:0.002035\ttest-merror:0.146341\n",
      "[38]\ttrain-merror:0.001526\ttest-merror:0.150407\n",
      "[39]\ttrain-merror:0.001526\ttest-merror:0.148374\n",
      "[40]\ttrain-merror:0.001526\ttest-merror:0.148374\n",
      "[41]\ttrain-merror:0.001526\ttest-merror:0.148374\n",
      "[42]\ttrain-merror:0.001526\ttest-merror:0.148374\n",
      "[43]\ttrain-merror:0.001526\ttest-merror:0.144309\n",
      "[44]\ttrain-merror:0.001526\ttest-merror:0.144309\n",
      "[45]\ttrain-merror:0.001526\ttest-merror:0.142276\n",
      "[46]\ttrain-merror:0.001526\ttest-merror:0.142276\n",
      "[47]\ttrain-merror:0.001526\ttest-merror:0.142276\n",
      "[48]\ttrain-merror:0.001526\ttest-merror:0.144309\n",
      "[49]\ttrain-merror:0.001526\ttest-merror:0.144309\n",
      "Test error using softprob = 0.1443089430894309\n"
     ]
    }
   ],
   "source": [
    "bst = xgb.train(param, xg_train, num_round, watchlist)\n",
    "# get prediction\n",
    "pred = bst.predict(xg_test)\n",
    "error_rate = np.sum(pred != test_Y) / test_Y.shape[0]\n",
    "print('Test error using softmax = {}'.format(error_rate))\n",
    "\n",
    "# do the same thing again, but output probabilities\n",
    "param['objective'] = 'multi:softprob'\n",
    "bst = xgb.train(param, xg_train, num_round, watchlist)\n",
    "# Note: this convention has been changed since xgboost-unity\n",
    "# get prediction, this is in 1D array, need reshape to (ndata, nclass)\n",
    "pred_prob = bst.predict(xg_test).reshape(test_Y.shape[0], 6)\n",
    "pred_label = np.argmax(pred_prob, axis=1)\n",
    "error_rate = np.sum(pred_label != test_Y) / test_Y.shape[0]\n",
    "print('Test error using softprob = {}'.format(error_rate))"
   ]
  },
  {
   "cell_type": "code",
   "execution_count": null,
   "metadata": {},
   "outputs": [],
   "source": []
  }
 ],
 "metadata": {
  "kernelspec": {
   "display_name": "Python 3",
   "language": "python",
   "name": "python3"
  },
  "language_info": {
   "codemirror_mode": {
    "name": "ipython",
    "version": 3
   },
   "file_extension": ".py",
   "mimetype": "text/x-python",
   "name": "python",
   "nbconvert_exporter": "python",
   "pygments_lexer": "ipython3",
   "version": "3.7.3"
  }
 },
 "nbformat": 4,
 "nbformat_minor": 2
}
