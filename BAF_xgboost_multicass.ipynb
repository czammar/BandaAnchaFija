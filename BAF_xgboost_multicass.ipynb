{
 "cells": [
  {
   "cell_type": "markdown",
   "metadata": {},
   "source": [
    "### Preámbulo de paquetes a utilizarse"
   ]
  },
  {
   "cell_type": "code",
   "execution_count": 1,
   "metadata": {},
   "outputs": [],
   "source": [
    "import pandas as pd\n",
    "import numpy as np\n",
    "import xgboost as xgb\n",
    "import seaborn as sns \n",
    "import matplotlib.pyplot as plt\n",
    "from sklearn.model_selection import KFold\n",
    "from sklearn.model_selection import StratifiedKFold\n",
    "from sklearn.ensemble import RandomForestClassifier"
   ]
  },
  {
   "cell_type": "markdown",
   "metadata": {},
   "source": [
    "### Carga de datos de penetracion BAF y municipios"
   ]
  },
  {
   "cell_type": "code",
   "execution_count": 2,
   "metadata": {},
   "outputs": [
    {
     "data": {
      "text/html": [
       "<div>\n",
       "<style scoped>\n",
       "    .dataframe tbody tr th:only-of-type {\n",
       "        vertical-align: middle;\n",
       "    }\n",
       "\n",
       "    .dataframe tbody tr th {\n",
       "        vertical-align: top;\n",
       "    }\n",
       "\n",
       "    .dataframe thead th {\n",
       "        text-align: right;\n",
       "    }\n",
       "</style>\n",
       "<table border=\"1\" class=\"dataframe\">\n",
       "  <thead>\n",
       "    <tr style=\"text-align: right;\">\n",
       "      <th></th>\n",
       "      <th>HOGARES</th>\n",
       "      <th>POBLACION</th>\n",
       "      <th>ANALF</th>\n",
       "      <th>SPRIM</th>\n",
       "      <th>OVPT</th>\n",
       "      <th>PL5000</th>\n",
       "      <th>PO2SM</th>\n",
       "      <th>DISP_INTERNET</th>\n",
       "      <th>DISP_TV_PAGA</th>\n",
       "      <th>DISP_TEL_CELULAR</th>\n",
       "      <th>DISP_TEL_FIJO</th>\n",
       "      <th>NUM_OPS</th>\n",
       "      <th>DENS_HOGS</th>\n",
       "      <th>ANOS_PROMEDIO_DE_ESCOLARIDAD</th>\n",
       "      <th>INGRESOPC_ANUAL</th>\n",
       "      <th>PEN_CLASS</th>\n",
       "    </tr>\n",
       "  </thead>\n",
       "  <tbody>\n",
       "    <tr>\n",
       "      <th>count</th>\n",
       "      <td>2446.000000</td>\n",
       "      <td>2.446000e+03</td>\n",
       "      <td>2446.000000</td>\n",
       "      <td>2446.000000</td>\n",
       "      <td>2446.000000</td>\n",
       "      <td>2446.000000</td>\n",
       "      <td>2446.000000</td>\n",
       "      <td>2446.000000</td>\n",
       "      <td>2446.000000</td>\n",
       "      <td>2446.000000</td>\n",
       "      <td>2446.000000</td>\n",
       "      <td>2446.000000</td>\n",
       "      <td>2446.000000</td>\n",
       "      <td>2446.000000</td>\n",
       "      <td>2446.000000</td>\n",
       "      <td>2446.000000</td>\n",
       "    </tr>\n",
       "    <tr>\n",
       "      <th>mean</th>\n",
       "      <td>12991.372036</td>\n",
       "      <td>4.860599e+04</td>\n",
       "      <td>11.690286</td>\n",
       "      <td>29.213050</td>\n",
       "      <td>8.289027</td>\n",
       "      <td>71.898684</td>\n",
       "      <td>55.381063</td>\n",
       "      <td>12.054015</td>\n",
       "      <td>31.158202</td>\n",
       "      <td>57.439859</td>\n",
       "      <td>20.204734</td>\n",
       "      <td>0.226492</td>\n",
       "      <td>7916.018110</td>\n",
       "      <td>6.423426</td>\n",
       "      <td>1935.145724</td>\n",
       "      <td>0.487326</td>\n",
       "    </tr>\n",
       "    <tr>\n",
       "      <th>std</th>\n",
       "      <td>38143.144359</td>\n",
       "      <td>1.389142e+05</td>\n",
       "      <td>8.527067</td>\n",
       "      <td>11.862555</td>\n",
       "      <td>8.879405</td>\n",
       "      <td>34.685724</td>\n",
       "      <td>16.985484</td>\n",
       "      <td>12.770534</td>\n",
       "      <td>18.829657</td>\n",
       "      <td>25.072398</td>\n",
       "      <td>14.044259</td>\n",
       "      <td>0.418647</td>\n",
       "      <td>35001.243252</td>\n",
       "      <td>1.767869</td>\n",
       "      <td>1020.473455</td>\n",
       "      <td>0.861612</td>\n",
       "    </tr>\n",
       "    <tr>\n",
       "      <th>min</th>\n",
       "      <td>31.000000</td>\n",
       "      <td>8.700000e+01</td>\n",
       "      <td>0.670000</td>\n",
       "      <td>2.490000</td>\n",
       "      <td>0.000000</td>\n",
       "      <td>0.000000</td>\n",
       "      <td>8.250000</td>\n",
       "      <td>0.000000</td>\n",
       "      <td>0.000000</td>\n",
       "      <td>0.000000</td>\n",
       "      <td>0.000000</td>\n",
       "      <td>0.000000</td>\n",
       "      <td>4.995331</td>\n",
       "      <td>1.460000</td>\n",
       "      <td>185.290000</td>\n",
       "      <td>0.000000</td>\n",
       "    </tr>\n",
       "    <tr>\n",
       "      <th>25%</th>\n",
       "      <td>1111.750000</td>\n",
       "      <td>4.253000e+03</td>\n",
       "      <td>5.240000</td>\n",
       "      <td>20.500000</td>\n",
       "      <td>1.882500</td>\n",
       "      <td>42.687500</td>\n",
       "      <td>42.930000</td>\n",
       "      <td>2.100553</td>\n",
       "      <td>15.313693</td>\n",
       "      <td>42.198730</td>\n",
       "      <td>9.047367</td>\n",
       "      <td>0.000000</td>\n",
       "      <td>521.867640</td>\n",
       "      <td>5.190000</td>\n",
       "      <td>1198.730000</td>\n",
       "      <td>0.000000</td>\n",
       "    </tr>\n",
       "    <tr>\n",
       "      <th>50%</th>\n",
       "      <td>3471.500000</td>\n",
       "      <td>1.340400e+04</td>\n",
       "      <td>9.725000</td>\n",
       "      <td>29.405000</td>\n",
       "      <td>5.215000</td>\n",
       "      <td>100.000000</td>\n",
       "      <td>57.020000</td>\n",
       "      <td>7.954121</td>\n",
       "      <td>29.018092</td>\n",
       "      <td>64.877177</td>\n",
       "      <td>17.645177</td>\n",
       "      <td>0.000000</td>\n",
       "      <td>1387.721595</td>\n",
       "      <td>6.280000</td>\n",
       "      <td>1789.905000</td>\n",
       "      <td>0.000000</td>\n",
       "    </tr>\n",
       "    <tr>\n",
       "      <th>75%</th>\n",
       "      <td>8877.500000</td>\n",
       "      <td>3.439950e+04</td>\n",
       "      <td>15.705000</td>\n",
       "      <td>37.345000</td>\n",
       "      <td>11.377500</td>\n",
       "      <td>100.000000</td>\n",
       "      <td>68.470000</td>\n",
       "      <td>17.788759</td>\n",
       "      <td>45.173174</td>\n",
       "      <td>76.445478</td>\n",
       "      <td>29.454433</td>\n",
       "      <td>0.000000</td>\n",
       "      <td>3462.189955</td>\n",
       "      <td>7.520000</td>\n",
       "      <td>2447.497500</td>\n",
       "      <td>1.000000</td>\n",
       "    </tr>\n",
       "    <tr>\n",
       "      <th>max</th>\n",
       "      <td>495665.000000</td>\n",
       "      <td>1.827868e+06</td>\n",
       "      <td>56.420000</td>\n",
       "      <td>71.240000</td>\n",
       "      <td>68.490000</td>\n",
       "      <td>100.000000</td>\n",
       "      <td>94.120000</td>\n",
       "      <td>81.882586</td>\n",
       "      <td>85.097192</td>\n",
       "      <td>95.002027</td>\n",
       "      <td>84.047612</td>\n",
       "      <td>1.000000</td>\n",
       "      <td>598127.340824</td>\n",
       "      <td>13.830000</td>\n",
       "      <td>9748.530000</td>\n",
       "      <td>5.000000</td>\n",
       "    </tr>\n",
       "  </tbody>\n",
       "</table>\n",
       "</div>"
      ],
      "text/plain": [
       "             HOGARES     POBLACION        ANALF        SPRIM         OVPT  \\\n",
       "count    2446.000000  2.446000e+03  2446.000000  2446.000000  2446.000000   \n",
       "mean    12991.372036  4.860599e+04    11.690286    29.213050     8.289027   \n",
       "std     38143.144359  1.389142e+05     8.527067    11.862555     8.879405   \n",
       "min        31.000000  8.700000e+01     0.670000     2.490000     0.000000   \n",
       "25%      1111.750000  4.253000e+03     5.240000    20.500000     1.882500   \n",
       "50%      3471.500000  1.340400e+04     9.725000    29.405000     5.215000   \n",
       "75%      8877.500000  3.439950e+04    15.705000    37.345000    11.377500   \n",
       "max    495665.000000  1.827868e+06    56.420000    71.240000    68.490000   \n",
       "\n",
       "            PL5000        PO2SM  DISP_INTERNET  DISP_TV_PAGA  \\\n",
       "count  2446.000000  2446.000000    2446.000000   2446.000000   \n",
       "mean     71.898684    55.381063      12.054015     31.158202   \n",
       "std      34.685724    16.985484      12.770534     18.829657   \n",
       "min       0.000000     8.250000       0.000000      0.000000   \n",
       "25%      42.687500    42.930000       2.100553     15.313693   \n",
       "50%     100.000000    57.020000       7.954121     29.018092   \n",
       "75%     100.000000    68.470000      17.788759     45.173174   \n",
       "max     100.000000    94.120000      81.882586     85.097192   \n",
       "\n",
       "       DISP_TEL_CELULAR  DISP_TEL_FIJO      NUM_OPS      DENS_HOGS  \\\n",
       "count       2446.000000    2446.000000  2446.000000    2446.000000   \n",
       "mean          57.439859      20.204734     0.226492    7916.018110   \n",
       "std           25.072398      14.044259     0.418647   35001.243252   \n",
       "min            0.000000       0.000000     0.000000       4.995331   \n",
       "25%           42.198730       9.047367     0.000000     521.867640   \n",
       "50%           64.877177      17.645177     0.000000    1387.721595   \n",
       "75%           76.445478      29.454433     0.000000    3462.189955   \n",
       "max           95.002027      84.047612     1.000000  598127.340824   \n",
       "\n",
       "       ANOS_PROMEDIO_DE_ESCOLARIDAD  INGRESOPC_ANUAL    PEN_CLASS  \n",
       "count                   2446.000000      2446.000000  2446.000000  \n",
       "mean                       6.423426      1935.145724     0.487326  \n",
       "std                        1.767869      1020.473455     0.861612  \n",
       "min                        1.460000       185.290000     0.000000  \n",
       "25%                        5.190000      1198.730000     0.000000  \n",
       "50%                        6.280000      1789.905000     0.000000  \n",
       "75%                        7.520000      2447.497500     1.000000  \n",
       "max                       13.830000      9748.530000     5.000000  "
      ]
     },
     "execution_count": 2,
     "metadata": {},
     "output_type": "execute_result"
    }
   ],
   "source": [
    "data = pd.read_csv ('BAF_06209_selected.csv')\n",
    "\n",
    "# Elimina columas\n",
    "del data['SATELITAL']\n",
    "del data['TERRESTRE_FIJO_INALAMBRICO']\n",
    "del data['OTRAS_TECNOLOGIAS']\n",
    "del data['SIN_TECNOLOGIA_ESPECIFICADA']\n",
    "del data['CABLE_COAXIAL']\n",
    "del data['DSL']\n",
    "del data['FIBRA_OPTICA']\n",
    "del data['COAX_FO']\n",
    "del data['ALL_ACCESS']\n",
    "del data['PEN_BAF']\n",
    "del data['PEN_BAF_COAXFO']\n",
    "\n",
    "\n",
    "# Eliminia indices de base Naciones Unidas y CONAPO\n",
    "del data['INDICE_DE_EDUCACION']\n",
    "del data['INDICE_DE_SALUD']\n",
    "del data['INDICE_DE_INGRESO']\n",
    "del data['IDH']\n",
    "del data['IM']\n",
    "del data['TASA_DE_MORTALIDAD_INFANTIL']\n",
    "del data['OVSDE']\n",
    "del data['OVSEE']\n",
    "del data['OVSAE']\n",
    "del data['VHAC']\n",
    "\n",
    "\n",
    "del data['ANOS_ESPERADOS_DE_ESCOLARIZACIÓN']\n",
    "\n",
    "# Renombramos una columna para que no de problemas\n",
    "data.rename(columns={\"PL<5000\": \"PL5000\"}, inplace=True)\n",
    "\n",
    "#del data['HOGARES'] # hogares de los municipios\n",
    "#del data['POBLACION'] # hogares de los municipios\n",
    "del data['SUPERFICIE'] # superficie de municipios\n",
    "#del data['ALL_ACCESS'] # numero total de accesos BAF\n",
    "\n",
    "# Sustitumos valores de la columnas NUM_OPS (1= Hay mas de dos operadores, 0 = en otro caso)\n",
    "data['NUM_OPS'] = np.where(data['NUM_OPS']>1,1,0)\n",
    "\n",
    "#data[\"PEN_CLASS\"] = data[\"PEN_CLASS\"].astype('category')\n",
    "\n",
    "data.dropna(inplace=True)\n",
    "\n",
    "data.describe()"
   ]
  },
  {
   "cell_type": "code",
   "execution_count": 4,
   "metadata": {},
   "outputs": [
    {
     "data": {
      "text/plain": [
       "['HOGARES',\n",
       " 'POBLACION',\n",
       " 'ANALF',\n",
       " 'SPRIM',\n",
       " 'OVPT',\n",
       " 'PL5000',\n",
       " 'PO2SM',\n",
       " 'DISP_INTERNET',\n",
       " 'DISP_TV_PAGA',\n",
       " 'DISP_TEL_CELULAR',\n",
       " 'DISP_TEL_FIJO',\n",
       " 'NUM_OPS',\n",
       " 'DENS_HOGS',\n",
       " 'ANOS_PROMEDIO_DE_ESCOLARIDAD',\n",
       " 'INGRESOPC_ANUAL',\n",
       " 'PEN_CLASS']"
      ]
     },
     "execution_count": 4,
     "metadata": {},
     "output_type": "execute_result"
    }
   ],
   "source": [
    "sz = data.shape\n",
    "m,n = sz\n",
    "m\n",
    "list(data.columns.values)\n",
    "\n",
    "#plt.scatter(data['HOGARES'], data['DISP_INTERNET'], c=data['PEN_CLASS'], alpha=0.5)\n",
    "#plt.xlabel(\"Hogares\"); plt.ylabel(\"% Disponibilidad internet\");"
   ]
  },
  {
   "cell_type": "code",
   "execution_count": 5,
   "metadata": {},
   "outputs": [
    {
     "data": {
      "text/plain": [
       "<seaborn.matrix.ClusterGrid at 0x7f929602ac88>"
      ]
     },
     "execution_count": 5,
     "metadata": {},
     "output_type": "execute_result"
    },
    {
     "data": {
      "image/png": "[encoded data removed]",
      "text/plain": [
       "<Figure size 648x576 with 2 Axes>"
      ]
     },
     "metadata": {
      "needs_background": "light"
     },
     "output_type": "display_data"
    },
    {
     "data": {
      "image/png": "[encoded data removed]",
      "text/plain": [
       "<Figure size 720x720 with 4 Axes>"
      ]
     },
     "metadata": {
      "needs_background": "light"
     },
     "output_type": "display_data"
    }
   ],
   "source": [
    "corrmat = data.corr() \n",
    "  \n",
    "f, ax = plt.subplots(figsize =(9, 8)) \n",
    "sns.heatmap(corrmat, ax = ax, cmap =\"YlGn\", linewidths = 0.1) \n",
    "\n",
    "#corrmat = data.corr()   \n",
    "cg = sns.clustermap(corrmat, cmap =\"YlGnBu\", linewidths = 0.1); \n",
    "plt.setp(cg.ax_heatmap.yaxis.get_majorticklabels(), rotation = 0) \n",
    "  \n",
    "cg"
   ]
  },
  {
   "cell_type": "code",
   "execution_count": 6,
   "metadata": {},
   "outputs": [
    {
     "ename": "NameError",
     "evalue": "name 'y_train' is not defined",
     "output_type": "error",
     "traceback": [
      "\u001b[0;31m---------------------------------------------------------------------------\u001b[0m",
      "\u001b[0;31mNameError\u001b[0m                                 Traceback (most recent call last)",
      "\u001b[0;32m<ipython-input-6-c5b023940d34>\u001b[0m in \u001b[0;36m<module>\u001b[0;34m\u001b[0m\n\u001b[1;32m     15\u001b[0m     \u001b[0;32mreturn\u001b[0m \u001b[0mclass_weight_dict\u001b[0m \u001b[0;31m#sample_weights\u001b[0m\u001b[0;34m\u001b[0m\u001b[0;34m\u001b[0m\u001b[0m\n\u001b[1;32m     16\u001b[0m \u001b[0;34m\u001b[0m\u001b[0m\n\u001b[0;32m---> 17\u001b[0;31m \u001b[0mCreateBalancedSampleWeights\u001b[0m\u001b[0;34m(\u001b[0m\u001b[0my_train\u001b[0m\u001b[0;34m,\u001b[0m \u001b[0;36m1659\u001b[0m\u001b[0;34m/\u001b[0m\u001b[0;36m13\u001b[0m\u001b[0;34m)\u001b[0m\u001b[0;34m\u001b[0m\u001b[0;34m\u001b[0m\u001b[0m\n\u001b[0m\u001b[1;32m     18\u001b[0m \u001b[0;34m\u001b[0m\u001b[0m\n\u001b[1;32m     19\u001b[0m \u001b[0;31m#sample_weights = CreateBalancedSampleWeights(y_train, 1659/13)\u001b[0m\u001b[0;34m\u001b[0m\u001b[0;34m\u001b[0m\u001b[0;34m\u001b[0m\u001b[0m\n",
      "\u001b[0;31mNameError\u001b[0m: name 'y_train' is not defined"
     ]
    },
    {
     "data": {
      "image/png": "[encoded data removed]",
      "text/plain": [
       "<Figure size 432x288 with 1 Axes>"
      ]
     },
     "metadata": {
      "needs_background": "light"
     },
     "output_type": "display_data"
    }
   ],
   "source": [
    "sns.countplot(x='PEN_CLASS',data=data,palette='hls')\n",
    "data.groupby(['PEN_CLASS']).size()\n",
    "\n",
    "def CreateBalancedSampleWeights(y_train, largest_class_weight_coef):\n",
    "    classes = y_train.unique()\n",
    "    classes.sort()\n",
    "    class_samples = np.bincount(y_train)\n",
    "    total_samples = class_samples.sum()\n",
    "    n_classes = len(class_samples)\n",
    "    weights = total_samples / (n_classes * class_samples * 1.0)\n",
    "    class_weight_dict = {key : value for (key, value) in zip(classes, weights)}\n",
    "    class_weight_dict[classes[1]] = class_weight_dict[classes[1]] * largest_class_weight_coef\n",
    "    #sample_weights = [class_weight_dict[y] for y in y_train]\n",
    "\n",
    "    return class_weight_dict #sample_weights\n",
    "\n",
    "CreateBalancedSampleWeights(y_train, 1659/13)\n",
    "\n",
    "#sample_weights = CreateBalancedSampleWeights(y_train, 1659/13)"
   ]
  },
  {
   "cell_type": "markdown",
   "metadata": {},
   "source": [
    "### Preparamos los datos para entrenamiento y prueba"
   ]
  },
  {
   "cell_type": "code",
   "execution_count": 32,
   "metadata": {},
   "outputs": [
    {
     "name": "stderr",
     "output_type": "stream",
     "text": [
      "/home/cesar/.local/lib/python3.7/site-packages/xgboost/core.py:587: FutureWarning: Series.base is deprecated and will be removed in a future version\n",
      "  if getattr(data, 'base', None) is not None and \\\n"
     ]
    }
   ],
   "source": [
    "from sklearn.model_selection import train_test_split\n",
    "X_train, X_test, y_train, y_test = train_test_split(data.iloc[:, :n-1], data.iloc[:, n-1], random_state=1)\n",
    "\n",
    "xg_train = xgb.DMatrix(X_train, label=y_train)\n",
    "xg_test = xgb.DMatrix(X_test, label=y_test)"
   ]
  },
  {
   "cell_type": "code",
   "execution_count": 33,
   "metadata": {},
   "outputs": [
    {
     "name": "stdout",
     "output_type": "stream",
     "text": [
      "Fitting 6 folds for each of 6 candidates, totalling 36 fits\n",
      "[CV] colsample_bytree=1.0, eta=0.05, gamma=0.5, max_depth=6, n_estimators=10, nthread=10, num_class=6, objective=multi:softmax, silent=1, subsample=1.0 \n"
     ]
    },
    {
     "name": "stderr",
     "output_type": "stream",
     "text": [
      "[Parallel(n_jobs=1)]: Using backend SequentialBackend with 1 concurrent workers.\n"
     ]
    },
    {
     "name": "stdout",
     "output_type": "stream",
     "text": [
      "[CV]  colsample_bytree=1.0, eta=0.05, gamma=0.5, max_depth=6, n_estimators=10, nthread=10, num_class=6, objective=multi:softmax, silent=1, subsample=1.0, total=   0.5s\n",
      "[CV] colsample_bytree=1.0, eta=0.05, gamma=0.5, max_depth=6, n_estimators=10, nthread=10, num_class=6, objective=multi:softmax, silent=1, subsample=1.0 \n"
     ]
    },
    {
     "name": "stderr",
     "output_type": "stream",
     "text": [
      "[Parallel(n_jobs=1)]: Done   1 out of   1 | elapsed:    0.5s remaining:    0.0s\n"
     ]
    },
    {
     "name": "stdout",
     "output_type": "stream",
     "text": [
      "[CV]  colsample_bytree=1.0, eta=0.05, gamma=0.5, max_depth=6, n_estimators=10, nthread=10, num_class=6, objective=multi:softmax, silent=1, subsample=1.0, total=   0.7s\n",
      "[CV] colsample_bytree=1.0, eta=0.05, gamma=0.5, max_depth=6, n_estimators=10, nthread=10, num_class=6, objective=multi:softmax, silent=1, subsample=1.0 \n",
      "[CV]  colsample_bytree=1.0, eta=0.05, gamma=0.5, max_depth=6, n_estimators=10, nthread=10, num_class=6, objective=multi:softmax, silent=1, subsample=1.0, total=   0.7s\n",
      "[CV] colsample_bytree=1.0, eta=0.05, gamma=0.5, max_depth=6, n_estimators=10, nthread=10, num_class=6, objective=multi:softmax, silent=1, subsample=1.0 \n",
      "[CV]  colsample_bytree=1.0, eta=0.05, gamma=0.5, max_depth=6, n_estimators=10, nthread=10, num_class=6, objective=multi:softmax, silent=1, subsample=1.0, total=   0.4s\n",
      "[CV] colsample_bytree=1.0, eta=0.05, gamma=0.5, max_depth=6, n_estimators=10, nthread=10, num_class=6, objective=multi:softmax, silent=1, subsample=1.0 \n",
      "[CV]  colsample_bytree=1.0, eta=0.05, gamma=0.5, max_depth=6, n_estimators=10, nthread=10, num_class=6, objective=multi:softmax, silent=1, subsample=1.0, total=   0.4s\n",
      "[CV] colsample_bytree=1.0, eta=0.05, gamma=0.5, max_depth=6, n_estimators=10, nthread=10, num_class=6, objective=multi:softmax, silent=1, subsample=1.0 \n",
      "[CV]  colsample_bytree=1.0, eta=0.05, gamma=0.5, max_depth=6, n_estimators=10, nthread=10, num_class=6, objective=multi:softmax, silent=1, subsample=1.0, total=   0.4s\n",
      "[CV] colsample_bytree=1.0, eta=0.05, gamma=0.5, max_depth=7, n_estimators=10, nthread=10, num_class=6, objective=multi:softmax, silent=1, subsample=1.0 \n",
      "[CV]  colsample_bytree=1.0, eta=0.05, gamma=0.5, max_depth=7, n_estimators=10, nthread=10, num_class=6, objective=multi:softmax, silent=1, subsample=1.0, total=   0.5s\n",
      "[CV] colsample_bytree=1.0, eta=0.05, gamma=0.5, max_depth=7, n_estimators=10, nthread=10, num_class=6, objective=multi:softmax, silent=1, subsample=1.0 \n",
      "[CV]  colsample_bytree=1.0, eta=0.05, gamma=0.5, max_depth=7, n_estimators=10, nthread=10, num_class=6, objective=multi:softmax, silent=1, subsample=1.0, total=   0.6s\n",
      "[CV] colsample_bytree=1.0, eta=0.05, gamma=0.5, max_depth=7, n_estimators=10, nthread=10, num_class=6, objective=multi:softmax, silent=1, subsample=1.0 \n",
      "[CV]  colsample_bytree=1.0, eta=0.05, gamma=0.5, max_depth=7, n_estimators=10, nthread=10, num_class=6, objective=multi:softmax, silent=1, subsample=1.0, total=   0.4s\n",
      "[CV] colsample_bytree=1.0, eta=0.05, gamma=0.5, max_depth=7, n_estimators=10, nthread=10, num_class=6, objective=multi:softmax, silent=1, subsample=1.0 \n",
      "[CV]  colsample_bytree=1.0, eta=0.05, gamma=0.5, max_depth=7, n_estimators=10, nthread=10, num_class=6, objective=multi:softmax, silent=1, subsample=1.0, total=   0.5s\n",
      "[CV] colsample_bytree=1.0, eta=0.05, gamma=0.5, max_depth=7, n_estimators=10, nthread=10, num_class=6, objective=multi:softmax, silent=1, subsample=1.0 \n",
      "[CV]  colsample_bytree=1.0, eta=0.05, gamma=0.5, max_depth=7, n_estimators=10, nthread=10, num_class=6, objective=multi:softmax, silent=1, subsample=1.0, total=   0.6s\n",
      "[CV] colsample_bytree=1.0, eta=0.05, gamma=0.5, max_depth=7, n_estimators=10, nthread=10, num_class=6, objective=multi:softmax, silent=1, subsample=1.0 \n",
      "[CV]  colsample_bytree=1.0, eta=0.05, gamma=0.5, max_depth=7, n_estimators=10, nthread=10, num_class=6, objective=multi:softmax, silent=1, subsample=1.0, total=   0.4s\n",
      "[CV] colsample_bytree=1.0, eta=0.05, gamma=0.5, max_depth=8, n_estimators=10, nthread=10, num_class=6, objective=multi:softmax, silent=1, subsample=1.0 \n",
      "[CV]  colsample_bytree=1.0, eta=0.05, gamma=0.5, max_depth=8, n_estimators=10, nthread=10, num_class=6, objective=multi:softmax, silent=1, subsample=1.0, total=   0.4s\n",
      "[CV] colsample_bytree=1.0, eta=0.05, gamma=0.5, max_depth=8, n_estimators=10, nthread=10, num_class=6, objective=multi:softmax, silent=1, subsample=1.0 \n",
      "[CV]  colsample_bytree=1.0, eta=0.05, gamma=0.5, max_depth=8, n_estimators=10, nthread=10, num_class=6, objective=multi:softmax, silent=1, subsample=1.0, total=   0.6s\n",
      "[CV] colsample_bytree=1.0, eta=0.05, gamma=0.5, max_depth=8, n_estimators=10, nthread=10, num_class=6, objective=multi:softmax, silent=1, subsample=1.0 \n",
      "[CV]  colsample_bytree=1.0, eta=0.05, gamma=0.5, max_depth=8, n_estimators=10, nthread=10, num_class=6, objective=multi:softmax, silent=1, subsample=1.0, total=   0.4s\n",
      "[CV] colsample_bytree=1.0, eta=0.05, gamma=0.5, max_depth=8, n_estimators=10, nthread=10, num_class=6, objective=multi:softmax, silent=1, subsample=1.0 \n",
      "[CV]  colsample_bytree=1.0, eta=0.05, gamma=0.5, max_depth=8, n_estimators=10, nthread=10, num_class=6, objective=multi:softmax, silent=1, subsample=1.0, total=   0.7s\n",
      "[CV] colsample_bytree=1.0, eta=0.05, gamma=0.5, max_depth=8, n_estimators=10, nthread=10, num_class=6, objective=multi:softmax, silent=1, subsample=1.0 \n",
      "[CV]  colsample_bytree=1.0, eta=0.05, gamma=0.5, max_depth=8, n_estimators=10, nthread=10, num_class=6, objective=multi:softmax, silent=1, subsample=1.0, total=   0.5s\n",
      "[CV] colsample_bytree=1.0, eta=0.05, gamma=0.5, max_depth=8, n_estimators=10, nthread=10, num_class=6, objective=multi:softmax, silent=1, subsample=1.0 \n",
      "[CV]  colsample_bytree=1.0, eta=0.05, gamma=0.5, max_depth=8, n_estimators=10, nthread=10, num_class=6, objective=multi:softmax, silent=1, subsample=1.0, total=   0.7s\n",
      "[CV] colsample_bytree=1.0, eta=0.06, gamma=0.5, max_depth=6, n_estimators=10, nthread=10, num_class=6, objective=multi:softmax, silent=1, subsample=1.0 \n",
      "[CV]  colsample_bytree=1.0, eta=0.06, gamma=0.5, max_depth=6, n_estimators=10, nthread=10, num_class=6, objective=multi:softmax, silent=1, subsample=1.0, total=   0.9s\n",
      "[CV] colsample_bytree=1.0, eta=0.06, gamma=0.5, max_depth=6, n_estimators=10, nthread=10, num_class=6, objective=multi:softmax, silent=1, subsample=1.0 \n",
      "[CV]  colsample_bytree=1.0, eta=0.06, gamma=0.5, max_depth=6, n_estimators=10, nthread=10, num_class=6, objective=multi:softmax, silent=1, subsample=1.0, total=   0.4s\n",
      "[CV] colsample_bytree=1.0, eta=0.06, gamma=0.5, max_depth=6, n_estimators=10, nthread=10, num_class=6, objective=multi:softmax, silent=1, subsample=1.0 \n",
      "[CV]  colsample_bytree=1.0, eta=0.06, gamma=0.5, max_depth=6, n_estimators=10, nthread=10, num_class=6, objective=multi:softmax, silent=1, subsample=1.0, total=   0.4s\n",
      "[CV] colsample_bytree=1.0, eta=0.06, gamma=0.5, max_depth=6, n_estimators=10, nthread=10, num_class=6, objective=multi:softmax, silent=1, subsample=1.0 \n",
      "[CV]  colsample_bytree=1.0, eta=0.06, gamma=0.5, max_depth=6, n_estimators=10, nthread=10, num_class=6, objective=multi:softmax, silent=1, subsample=1.0, total=   0.4s\n",
      "[CV] colsample_bytree=1.0, eta=0.06, gamma=0.5, max_depth=6, n_estimators=10, nthread=10, num_class=6, objective=multi:softmax, silent=1, subsample=1.0 \n",
      "[CV]  colsample_bytree=1.0, eta=0.06, gamma=0.5, max_depth=6, n_estimators=10, nthread=10, num_class=6, objective=multi:softmax, silent=1, subsample=1.0, total=   0.4s\n",
      "[CV] colsample_bytree=1.0, eta=0.06, gamma=0.5, max_depth=6, n_estimators=10, nthread=10, num_class=6, objective=multi:softmax, silent=1, subsample=1.0 \n",
      "[CV]  colsample_bytree=1.0, eta=0.06, gamma=0.5, max_depth=6, n_estimators=10, nthread=10, num_class=6, objective=multi:softmax, silent=1, subsample=1.0, total=   0.4s\n",
      "[CV] colsample_bytree=1.0, eta=0.06, gamma=0.5, max_depth=7, n_estimators=10, nthread=10, num_class=6, objective=multi:softmax, silent=1, subsample=1.0 \n",
      "[CV]  colsample_bytree=1.0, eta=0.06, gamma=0.5, max_depth=7, n_estimators=10, nthread=10, num_class=6, objective=multi:softmax, silent=1, subsample=1.0, total=   0.4s\n",
      "[CV] colsample_bytree=1.0, eta=0.06, gamma=0.5, max_depth=7, n_estimators=10, nthread=10, num_class=6, objective=multi:softmax, silent=1, subsample=1.0 \n",
      "[CV]  colsample_bytree=1.0, eta=0.06, gamma=0.5, max_depth=7, n_estimators=10, nthread=10, num_class=6, objective=multi:softmax, silent=1, subsample=1.0, total=   0.4s\n",
      "[CV] colsample_bytree=1.0, eta=0.06, gamma=0.5, max_depth=7, n_estimators=10, nthread=10, num_class=6, objective=multi:softmax, silent=1, subsample=1.0 \n",
      "[CV]  colsample_bytree=1.0, eta=0.06, gamma=0.5, max_depth=7, n_estimators=10, nthread=10, num_class=6, objective=multi:softmax, silent=1, subsample=1.0, total=   0.4s\n",
      "[CV] colsample_bytree=1.0, eta=0.06, gamma=0.5, max_depth=7, n_estimators=10, nthread=10, num_class=6, objective=multi:softmax, silent=1, subsample=1.0 \n",
      "[CV]  colsample_bytree=1.0, eta=0.06, gamma=0.5, max_depth=7, n_estimators=10, nthread=10, num_class=6, objective=multi:softmax, silent=1, subsample=1.0, total=   0.4s\n",
      "[CV] colsample_bytree=1.0, eta=0.06, gamma=0.5, max_depth=7, n_estimators=10, nthread=10, num_class=6, objective=multi:softmax, silent=1, subsample=1.0 \n",
      "[CV]  colsample_bytree=1.0, eta=0.06, gamma=0.5, max_depth=7, n_estimators=10, nthread=10, num_class=6, objective=multi:softmax, silent=1, subsample=1.0, total=   0.4s\n",
      "[CV] colsample_bytree=1.0, eta=0.06, gamma=0.5, max_depth=7, n_estimators=10, nthread=10, num_class=6, objective=multi:softmax, silent=1, subsample=1.0 \n",
      "[CV]  colsample_bytree=1.0, eta=0.06, gamma=0.5, max_depth=7, n_estimators=10, nthread=10, num_class=6, objective=multi:softmax, silent=1, subsample=1.0, total=   0.7s\n",
      "[CV] colsample_bytree=1.0, eta=0.06, gamma=0.5, max_depth=8, n_estimators=10, nthread=10, num_class=6, objective=multi:softmax, silent=1, subsample=1.0 \n",
      "[CV]  colsample_bytree=1.0, eta=0.06, gamma=0.5, max_depth=8, n_estimators=10, nthread=10, num_class=6, objective=multi:softmax, silent=1, subsample=1.0, total=   0.6s\n",
      "[CV] colsample_bytree=1.0, eta=0.06, gamma=0.5, max_depth=8, n_estimators=10, nthread=10, num_class=6, objective=multi:softmax, silent=1, subsample=1.0 \n",
      "[CV]  colsample_bytree=1.0, eta=0.06, gamma=0.5, max_depth=8, n_estimators=10, nthread=10, num_class=6, objective=multi:softmax, silent=1, subsample=1.0, total=   0.6s\n",
      "[CV] colsample_bytree=1.0, eta=0.06, gamma=0.5, max_depth=8, n_estimators=10, nthread=10, num_class=6, objective=multi:softmax, silent=1, subsample=1.0 \n",
      "[CV]  colsample_bytree=1.0, eta=0.06, gamma=0.5, max_depth=8, n_estimators=10, nthread=10, num_class=6, objective=multi:softmax, silent=1, subsample=1.0, total=   0.5s\n",
      "[CV] colsample_bytree=1.0, eta=0.06, gamma=0.5, max_depth=8, n_estimators=10, nthread=10, num_class=6, objective=multi:softmax, silent=1, subsample=1.0 \n",
      "[CV]  colsample_bytree=1.0, eta=0.06, gamma=0.5, max_depth=8, n_estimators=10, nthread=10, num_class=6, objective=multi:softmax, silent=1, subsample=1.0, total=   0.5s\n",
      "[CV] colsample_bytree=1.0, eta=0.06, gamma=0.5, max_depth=8, n_estimators=10, nthread=10, num_class=6, objective=multi:softmax, silent=1, subsample=1.0 \n",
      "[CV]  colsample_bytree=1.0, eta=0.06, gamma=0.5, max_depth=8, n_estimators=10, nthread=10, num_class=6, objective=multi:softmax, silent=1, subsample=1.0, total=   0.5s\n",
      "[CV] colsample_bytree=1.0, eta=0.06, gamma=0.5, max_depth=8, n_estimators=10, nthread=10, num_class=6, objective=multi:softmax, silent=1, subsample=1.0 \n",
      "[CV]  colsample_bytree=1.0, eta=0.06, gamma=0.5, max_depth=8, n_estimators=10, nthread=10, num_class=6, objective=multi:softmax, silent=1, subsample=1.0, total=   0.6s\n"
     ]
    },
    {
     "name": "stderr",
     "output_type": "stream",
     "text": [
      "[Parallel(n_jobs=1)]: Done  36 out of  36 | elapsed:   18.4s finished\n"
     ]
    },
    {
     "name": "stdout",
     "output_type": "stream",
     "text": [
      "Accuracy: 0.8464052287581699\n",
      "              precision    recall  f1-score   support\n",
      "\n",
      "           0       0.97      0.92      0.94       430\n",
      "           1       0.68      0.71      0.69       126\n",
      "           2       0.44      0.65      0.53        31\n",
      "           3       0.52      0.55      0.54        20\n",
      "           4       0.50      0.33      0.40         3\n",
      "           5       0.25      0.50      0.33         2\n",
      "\n",
      "    accuracy                           0.85       612\n",
      "   macro avg       0.56      0.61      0.57       612\n",
      "weighted avg       0.86      0.85      0.85       612\n",
      "\n"
     ]
    },
    {
     "data": {
      "text/plain": [
       "Text(91.68, 0.5, 'Valor real')"
      ]
     },
     "execution_count": 33,
     "metadata": {},
     "output_type": "execute_result"
    },
    {
     "data": {
      "image/png": "[encoded data removed]",
      "text/plain": [
       "<Figure size 432x288 with 1 Axes>"
      ]
     },
     "metadata": {
      "needs_background": "light"
     },
     "output_type": "display_data"
    }
   ],
   "source": [
    "from sklearn.model_selection import GridSearchCV\n",
    "\n",
    "# Instanciamos el clasificador\n",
    "classifier_xgb = xgb.XGBClassifier() \n",
    "\n",
    "# Hyper parametros para hacer el grid search\n",
    "hyper_param_grid = {\n",
    "    'objective':['multi:softmax'],\n",
    "    'eta':[0.05,0.06], # Tasa de aprendizaje\n",
    "    'gamma': [0.5],\n",
    "    'max_depth':[6,7,8],\n",
    "    'subsample':[0.8],\n",
    "    'silent':[1],\n",
    "    'nthread':[10],\n",
    "    'num_class':[6],\n",
    "    'subsample':[1.0],\n",
    "    'colsample_bytree':[1.0],\n",
    "    'n_estimators': [10], #number of trees, change it to 1000 for better results\n",
    "    #'sample_weight':[sample_weights]\n",
    "    }\n",
    "\n",
    "grid_search_xgb = GridSearchCV(classifier_xgb, hyper_param_grid, cv = 6, verbose = 2)\n",
    "\n",
    "grid_search_xgb.fit(X_train, y_train)\n",
    "\n",
    "\n",
    "y_model_xgb = grid_search_xgb.predict(X_test)\n",
    "## Accuracy\n",
    "from sklearn.metrics import accuracy_score\n",
    "print(\"Accuracy: {}\".format(accuracy_score(y_test, y_model_xgb)))\n",
    "\n",
    "## Métricas clasicas de Clasificadores\n",
    "from sklearn import metrics\n",
    "print(metrics.classification_report(y_model_xgb, y_test))\n",
    "\n",
    "## Matriz de confusión\n",
    "from sklearn.metrics import confusion_matrix\n",
    "\n",
    "mat = confusion_matrix(y_test, y_model_xgb)\n",
    "\n",
    "plt.close()\n",
    "\n",
    "sns.heatmap(mat, square = True, annot = True, cbar = False)\n",
    "plt.xlabel('Valor predicho')\n",
    "plt.ylabel('Valor real')\n"
   ]
  },
  {
   "cell_type": "code",
   "execution_count": 29,
   "metadata": {},
   "outputs": [
    {
     "ename": "XGBoostError",
     "evalue": "need to call fit or load_model beforehand",
     "output_type": "error",
     "traceback": [
      "\u001b[0;31m---------------------------------------------------------------------------\u001b[0m",
      "\u001b[0;31mXGBoostError\u001b[0m                              Traceback (most recent call last)",
      "\u001b[0;32m<ipython-input-29-d640cd8e4440>\u001b[0m in \u001b[0;36m<module>\u001b[0;34m\u001b[0m\n\u001b[1;32m      1\u001b[0m \u001b[0;32mfrom\u001b[0m \u001b[0mxgboost\u001b[0m \u001b[0;32mimport\u001b[0m \u001b[0mplot_importance\u001b[0m\u001b[0;34m\u001b[0m\u001b[0;34m\u001b[0m\u001b[0m\n\u001b[0;32m----> 2\u001b[0;31m \u001b[0mplot_importance\u001b[0m\u001b[0;34m(\u001b[0m\u001b[0mclassifier_xgb\u001b[0m\u001b[0;34m)\u001b[0m\u001b[0;34m\u001b[0m\u001b[0;34m\u001b[0m\u001b[0m\n\u001b[0m\u001b[1;32m      3\u001b[0m \u001b[0mpyplot\u001b[0m\u001b[0;34m.\u001b[0m\u001b[0mshow\u001b[0m\u001b[0;34m(\u001b[0m\u001b[0;34m)\u001b[0m\u001b[0;34m\u001b[0m\u001b[0;34m\u001b[0m\u001b[0m\n\u001b[1;32m      4\u001b[0m \u001b[0;34m\u001b[0m\u001b[0m\n",
      "\u001b[0;32m~/.local/lib/python3.7/site-packages/xgboost/plotting.py\u001b[0m in \u001b[0;36mplot_importance\u001b[0;34m(booster, ax, height, xlim, ylim, title, xlabel, ylabel, importance_type, max_num_features, grid, show_values, **kwargs)\u001b[0m\n\u001b[1;32m     62\u001b[0m \u001b[0;34m\u001b[0m\u001b[0m\n\u001b[1;32m     63\u001b[0m     \u001b[0;32mif\u001b[0m \u001b[0misinstance\u001b[0m\u001b[0;34m(\u001b[0m\u001b[0mbooster\u001b[0m\u001b[0;34m,\u001b[0m \u001b[0mXGBModel\u001b[0m\u001b[0;34m)\u001b[0m\u001b[0;34m:\u001b[0m\u001b[0;34m\u001b[0m\u001b[0;34m\u001b[0m\u001b[0m\n\u001b[0;32m---> 64\u001b[0;31m         \u001b[0mimportance\u001b[0m \u001b[0;34m=\u001b[0m \u001b[0mbooster\u001b[0m\u001b[0;34m.\u001b[0m\u001b[0mget_booster\u001b[0m\u001b[0;34m(\u001b[0m\u001b[0;34m)\u001b[0m\u001b[0;34m.\u001b[0m\u001b[0mget_score\u001b[0m\u001b[0;34m(\u001b[0m\u001b[0mimportance_type\u001b[0m\u001b[0;34m=\u001b[0m\u001b[0mimportance_type\u001b[0m\u001b[0;34m)\u001b[0m\u001b[0;34m\u001b[0m\u001b[0;34m\u001b[0m\u001b[0m\n\u001b[0m\u001b[1;32m     65\u001b[0m     \u001b[0;32melif\u001b[0m \u001b[0misinstance\u001b[0m\u001b[0;34m(\u001b[0m\u001b[0mbooster\u001b[0m\u001b[0;34m,\u001b[0m \u001b[0mBooster\u001b[0m\u001b[0;34m)\u001b[0m\u001b[0;34m:\u001b[0m\u001b[0;34m\u001b[0m\u001b[0;34m\u001b[0m\u001b[0m\n\u001b[1;32m     66\u001b[0m         \u001b[0mimportance\u001b[0m \u001b[0;34m=\u001b[0m \u001b[0mbooster\u001b[0m\u001b[0;34m.\u001b[0m\u001b[0mget_score\u001b[0m\u001b[0;34m(\u001b[0m\u001b[0mimportance_type\u001b[0m\u001b[0;34m=\u001b[0m\u001b[0mimportance_type\u001b[0m\u001b[0;34m)\u001b[0m\u001b[0;34m\u001b[0m\u001b[0;34m\u001b[0m\u001b[0m\n",
      "\u001b[0;32m~/.local/lib/python3.7/site-packages/xgboost/sklearn.py\u001b[0m in \u001b[0;36mget_booster\u001b[0;34m(self)\u001b[0m\n\u001b[1;32m    191\u001b[0m         \"\"\"\n\u001b[1;32m    192\u001b[0m         \u001b[0;32mif\u001b[0m \u001b[0mself\u001b[0m\u001b[0;34m.\u001b[0m\u001b[0m_Booster\u001b[0m \u001b[0;32mis\u001b[0m \u001b[0;32mNone\u001b[0m\u001b[0;34m:\u001b[0m\u001b[0;34m\u001b[0m\u001b[0;34m\u001b[0m\u001b[0m\n\u001b[0;32m--> 193\u001b[0;31m             \u001b[0;32mraise\u001b[0m \u001b[0mXGBoostError\u001b[0m\u001b[0;34m(\u001b[0m\u001b[0;34m'need to call fit or load_model beforehand'\u001b[0m\u001b[0;34m)\u001b[0m\u001b[0;34m\u001b[0m\u001b[0;34m\u001b[0m\u001b[0m\n\u001b[0m\u001b[1;32m    194\u001b[0m         \u001b[0;32mreturn\u001b[0m \u001b[0mself\u001b[0m\u001b[0;34m.\u001b[0m\u001b[0m_Booster\u001b[0m\u001b[0;34m\u001b[0m\u001b[0;34m\u001b[0m\u001b[0m\n\u001b[1;32m    195\u001b[0m \u001b[0;34m\u001b[0m\u001b[0m\n",
      "\u001b[0;31mXGBoostError\u001b[0m: need to call fit or load_model beforehand"
     ]
    }
   ],
   "source": [
    "from xgboost import plot_importance\n",
    "plot_importance(classifier_xgb)\n",
    "pyplot.show()\n",
    "\n"
   ]
  },
  {
   "cell_type": "markdown",
   "metadata": {},
   "source": [
    "### Parámetros para xgboost"
   ]
  },
  {
   "cell_type": "code",
   "execution_count": 135,
   "metadata": {
    "scrolled": true
   },
   "outputs": [],
   "source": [
    "# setup parameters for xgboost\n",
    "param = {}\n",
    "# use softmax multi-class classification\n",
    "param['objective'] = 'multi:softmax'\n",
    "# scale weight of positive examples\n",
    "param['eta'] = 0.8\n",
    "param['gamma'] = 0.5\n",
    "param['max_depth'] = 8\n",
    "subsample=0.8,\n",
    "param['silent'] = 1\n",
    "param['nthread'] = 10\n",
    "param['num_class'] = 6\n",
    "param['subsample'] = 1.0\n",
    "param['colsample_bytree'] = 1.0\n",
    "param['sample_weight']=sample_weights\n",
    "\n",
    "watchlist = [(xg_train, 'train'), (xg_test, 'test')]\n",
    "num_round = 50\n"
   ]
  },
  {
   "cell_type": "markdown",
   "metadata": {},
   "source": [
    "### Entrenamiento y evaluación de predicciones"
   ]
  },
  {
   "cell_type": "code",
   "execution_count": 109,
   "metadata": {},
   "outputs": [
    {
     "name": "stdout",
     "output_type": "stream",
     "text": [
      "[0]\ttrain-merror:0.068157\ttest-merror:0.174837\n",
      "[1]\ttrain-merror:0.055616\ttest-merror:0.176471\n",
      "[2]\ttrain-merror:0.032715\ttest-merror:0.171569\n",
      "[3]\ttrain-merror:0.026718\ttest-merror:0.163399\n",
      "[4]\ttrain-merror:0.015812\ttest-merror:0.166667\n",
      "[5]\ttrain-merror:0.006543\ttest-merror:0.166667\n",
      "[6]\ttrain-merror:0.003817\ttest-merror:0.165033\n",
      "[7]\ttrain-merror:0.001636\ttest-merror:0.166667\n",
      "[8]\ttrain-merror:0.001636\ttest-merror:0.161765\n",
      "[9]\ttrain-merror:0.001091\ttest-merror:0.161765\n",
      "[10]\ttrain-merror:0.001091\ttest-merror:0.165033\n",
      "[11]\ttrain-merror:0.001091\ttest-merror:0.168301\n",
      "[12]\ttrain-merror:0.001091\ttest-merror:0.168301\n",
      "[13]\ttrain-merror:0.001091\ttest-merror:0.166667\n",
      "[14]\ttrain-merror:0.001091\ttest-merror:0.168301\n",
      "[15]\ttrain-merror:0.001091\ttest-merror:0.168301\n",
      "[16]\ttrain-merror:0.001091\ttest-merror:0.168301\n",
      "[17]\ttrain-merror:0.001091\ttest-merror:0.168301\n",
      "[18]\ttrain-merror:0.001091\ttest-merror:0.168301\n",
      "[19]\ttrain-merror:0.001091\ttest-merror:0.168301\n",
      "[20]\ttrain-merror:0.001091\ttest-merror:0.168301\n",
      "[21]\ttrain-merror:0.001091\ttest-merror:0.165033\n",
      "[22]\ttrain-merror:0.001091\ttest-merror:0.163399\n",
      "[23]\ttrain-merror:0.001091\ttest-merror:0.163399\n",
      "[24]\ttrain-merror:0.001091\ttest-merror:0.163399\n",
      "[25]\ttrain-merror:0.001091\ttest-merror:0.163399\n",
      "[26]\ttrain-merror:0.001091\ttest-merror:0.163399\n",
      "[27]\ttrain-merror:0.001091\ttest-merror:0.163399\n",
      "[28]\ttrain-merror:0.001091\ttest-merror:0.163399\n",
      "[29]\ttrain-merror:0.001091\ttest-merror:0.163399\n",
      "[30]\ttrain-merror:0.001091\ttest-merror:0.163399\n",
      "[31]\ttrain-merror:0.001091\ttest-merror:0.163399\n",
      "[32]\ttrain-merror:0.001091\ttest-merror:0.163399\n",
      "[33]\ttrain-merror:0.001091\ttest-merror:0.163399\n",
      "[34]\ttrain-merror:0.001091\ttest-merror:0.163399\n",
      "[35]\ttrain-merror:0.001091\ttest-merror:0.163399\n",
      "[36]\ttrain-merror:0.001091\ttest-merror:0.163399\n",
      "[37]\ttrain-merror:0.001091\ttest-merror:0.163399\n",
      "[38]\ttrain-merror:0.001091\ttest-merror:0.163399\n",
      "[39]\ttrain-merror:0.001091\ttest-merror:0.163399\n",
      "[40]\ttrain-merror:0.001091\ttest-merror:0.163399\n",
      "[41]\ttrain-merror:0.001091\ttest-merror:0.163399\n",
      "[42]\ttrain-merror:0.001091\ttest-merror:0.163399\n",
      "[43]\ttrain-merror:0.001091\ttest-merror:0.163399\n",
      "[44]\ttrain-merror:0.001091\ttest-merror:0.163399\n",
      "[45]\ttrain-merror:0.001091\ttest-merror:0.163399\n",
      "[46]\ttrain-merror:0.001091\ttest-merror:0.163399\n",
      "[47]\ttrain-merror:0.001091\ttest-merror:0.163399\n",
      "[48]\ttrain-merror:0.001091\ttest-merror:0.163399\n",
      "[49]\ttrain-merror:0.001091\ttest-merror:0.163399\n",
      "Test error using softmax = 0.16339869281045752\n",
      "[0]\ttrain-merror:0.068157\ttest-merror:0.174837\n",
      "[1]\ttrain-merror:0.055616\ttest-merror:0.176471\n",
      "[2]\ttrain-merror:0.032715\ttest-merror:0.171569\n",
      "[3]\ttrain-merror:0.026718\ttest-merror:0.163399\n",
      "[4]\ttrain-merror:0.015812\ttest-merror:0.166667\n",
      "[5]\ttrain-merror:0.006543\ttest-merror:0.166667\n",
      "[6]\ttrain-merror:0.003817\ttest-merror:0.165033\n",
      "[7]\ttrain-merror:0.001636\ttest-merror:0.166667\n",
      "[8]\ttrain-merror:0.001636\ttest-merror:0.161765\n",
      "[9]\ttrain-merror:0.001091\ttest-merror:0.161765\n",
      "[10]\ttrain-merror:0.001091\ttest-merror:0.165033\n",
      "[11]\ttrain-merror:0.001091\ttest-merror:0.168301\n",
      "[12]\ttrain-merror:0.001091\ttest-merror:0.168301\n",
      "[13]\ttrain-merror:0.001091\ttest-merror:0.166667\n",
      "[14]\ttrain-merror:0.001091\ttest-merror:0.168301\n",
      "[15]\ttrain-merror:0.001091\ttest-merror:0.168301\n",
      "[16]\ttrain-merror:0.001091\ttest-merror:0.168301\n",
      "[17]\ttrain-merror:0.001091\ttest-merror:0.168301\n",
      "[18]\ttrain-merror:0.001091\ttest-merror:0.168301\n",
      "[19]\ttrain-merror:0.001091\ttest-merror:0.168301\n",
      "[20]\ttrain-merror:0.001091\ttest-merror:0.168301\n",
      "[21]\ttrain-merror:0.001091\ttest-merror:0.165033\n",
      "[22]\ttrain-merror:0.001091\ttest-merror:0.163399\n",
      "[23]\ttrain-merror:0.001091\ttest-merror:0.163399\n",
      "[24]\ttrain-merror:0.001091\ttest-merror:0.163399\n",
      "[25]\ttrain-merror:0.001091\ttest-merror:0.163399\n",
      "[26]\ttrain-merror:0.001091\ttest-merror:0.163399\n",
      "[27]\ttrain-merror:0.001091\ttest-merror:0.163399\n",
      "[28]\ttrain-merror:0.001091\ttest-merror:0.163399\n",
      "[29]\ttrain-merror:0.001091\ttest-merror:0.163399\n",
      "[30]\ttrain-merror:0.001091\ttest-merror:0.163399\n",
      "[31]\ttrain-merror:0.001091\ttest-merror:0.163399\n",
      "[32]\ttrain-merror:0.001091\ttest-merror:0.163399\n",
      "[33]\ttrain-merror:0.001091\ttest-merror:0.163399\n",
      "[34]\ttrain-merror:0.001091\ttest-merror:0.163399\n",
      "[35]\ttrain-merror:0.001091\ttest-merror:0.163399\n",
      "[36]\ttrain-merror:0.001091\ttest-merror:0.163399\n",
      "[37]\ttrain-merror:0.001091\ttest-merror:0.163399\n",
      "[38]\ttrain-merror:0.001091\ttest-merror:0.163399\n",
      "[39]\ttrain-merror:0.001091\ttest-merror:0.163399\n",
      "[40]\ttrain-merror:0.001091\ttest-merror:0.163399\n",
      "[41]\ttrain-merror:0.001091\ttest-merror:0.163399\n",
      "[42]\ttrain-merror:0.001091\ttest-merror:0.163399\n",
      "[43]\ttrain-merror:0.001091\ttest-merror:0.163399\n",
      "[44]\ttrain-merror:0.001091\ttest-merror:0.163399\n",
      "[45]\ttrain-merror:0.001091\ttest-merror:0.163399\n",
      "[46]\ttrain-merror:0.001091\ttest-merror:0.163399\n",
      "[47]\ttrain-merror:0.001091\ttest-merror:0.163399\n",
      "[48]\ttrain-merror:0.001091\ttest-merror:0.163399\n",
      "[49]\ttrain-merror:0.001091\ttest-merror:0.163399\n",
      "Test error using softprob = 0.16339869281045752\n"
     ]
    }
   ],
   "source": [
    "bst = xgb.train(param, xg_train, num_round, watchlist)\n",
    "# get prediction\n",
    "pred = bst.predict(xg_test)\n",
    "error_rate = np.sum(pred != y_test) / y_test.shape[0]\n",
    "print('Test error using softmax = {}'.format(error_rate))\n",
    "\n",
    "# do the same thing again, but output probabilities\n",
    "param['objective'] = 'multi:softprob'\n",
    "bst = xgb.train(param, xg_train, num_round, watchlist)\n",
    "\n",
    "# Note: this convention has been changed since xgboost-unity\n",
    "# get prediction, this is in 1D array, need reshape to (ndata, nclass)\n",
    "pred_prob = bst.predict(xg_test).reshape(y_test.shape[0], 6)\n",
    "pred_label = np.argmax(pred_prob, axis=1)\n",
    "error_rate = np.sum(pred_label != y_test) / y_test.shape[0]\n",
    "print('Test error using softprob = {}'.format(error_rate))"
   ]
  },
  {
   "cell_type": "code",
   "execution_count": 110,
   "metadata": {},
   "outputs": [
    {
     "name": "stdout",
     "output_type": "stream",
     "text": [
      "              precision    recall  f1-score   support\n",
      "\n",
      "           0       0.91      0.96      0.93       409\n",
      "           1       0.67      0.63      0.65       131\n",
      "           2       0.65      0.58      0.61        45\n",
      "           3       0.67      0.57      0.62        21\n",
      "           4       0.00      0.00      0.00         2\n",
      "           5       1.00      0.25      0.40         4\n",
      "\n",
      "    accuracy                           0.84       612\n",
      "   macro avg       0.65      0.50      0.53       612\n",
      "weighted avg       0.83      0.84      0.83       612\n",
      "\n"
     ]
    },
    {
     "data": {
      "image/png": "[encoded data removed]",
      "text/plain": [
       "<Figure size 432x288 with 1 Axes>"
      ]
     },
     "metadata": {
      "needs_background": "light"
     },
     "output_type": "display_data"
    }
   ],
   "source": [
    "## Matriz de confusión\n",
    "from sklearn.metrics import confusion_matrix\n",
    "\n",
    "mat = confusion_matrix(y_test, pred)\n",
    "\n",
    "plt.close()\n",
    "\n",
    "sns.heatmap(mat, square = True, annot = True, cbar = False)\n",
    "plt.xlabel('Valor predicho')\n",
    "plt.ylabel('Valor real')\n",
    "\n",
    "from sklearn import metrics\n",
    "print(metrics.classification_report(y_test, pred))"
   ]
  },
  {
   "cell_type": "markdown",
   "metadata": {},
   "source": [
    "### Random forests"
   ]
  },
  {
   "cell_type": "code",
   "execution_count": null,
   "metadata": {},
   "outputs": [],
   "source": []
  },
  {
   "cell_type": "code",
   "execution_count": 34,
   "metadata": {},
   "outputs": [
    {
     "name": "stdout",
     "output_type": "stream",
     "text": [
      "Accuracy: 0.8398692810457516\n",
      "              precision    recall  f1-score   support\n",
      "\n",
      "           0       0.94      0.94      0.94       409\n",
      "           1       0.66      0.70      0.68       125\n",
      "           2       0.64      0.54      0.59        54\n",
      "           3       0.67      0.64      0.65        22\n",
      "           4       0.00      0.00      0.00         1\n",
      "           5       0.25      1.00      0.40         1\n",
      "\n",
      "    accuracy                           0.84       612\n",
      "   macro avg       0.53      0.63      0.54       612\n",
      "weighted avg       0.84      0.84      0.84       612\n",
      "\n"
     ]
    },
    {
     "data": {
      "text/plain": [
       "Text(91.68, 0.5, 'Valor real')"
      ]
     },
     "execution_count": 34,
     "metadata": {},
     "output_type": "execute_result"
    },
    {
     "data": {
      "image/png": "[encoded data removed]",
      "text/plain": [
       "<Figure size 432x288 with 1 Axes>"
      ]
     },
     "metadata": {
      "needs_background": "light"
     },
     "output_type": "display_data"
    }
   ],
   "source": [
    "from sklearn.ensemble import RandomForestClassifier\n",
    "model = RandomForestClassifier(n_estimators=1000,criterion='entropy',max_depth=7,class_weight='balanced')\n",
    "model.fit(X_train, y_train)\n",
    "y_model = model.predict(X_test)\n",
    "\n",
    "## Accuracy\n",
    "from sklearn.metrics import accuracy_score\n",
    "print(\"Accuracy: {}\".format(accuracy_score(y_test, y_model)))\n",
    "\n",
    "## Métricas clasicas de Clasificadores\n",
    "from sklearn import metrics\n",
    "print(metrics.classification_report(y_model, y_test))\n",
    "\n",
    "## Matriz de confusión\n",
    "from sklearn.metrics import confusion_matrix\n",
    "\n",
    "mat = confusion_matrix(y_test, y_model)\n",
    "\n",
    "plt.close()\n",
    "\n",
    "sns.heatmap(mat, square = True, annot = True, cbar = False)\n",
    "plt.xlabel('Valor predicho')\n",
    "plt.ylabel('Valor real')"
   ]
  },
  {
   "cell_type": "code",
   "execution_count": 35,
   "metadata": {},
   "outputs": [
    {
     "name": "stdout",
     "output_type": "stream",
     "text": [
      "Fitting 6 folds for each of 6 candidates, totalling 36 fits\n",
      "[CV] criterion=entropy, max_depth=12, max_features=2, min_samples_split=2, n_estimators=10, warm_start=TRUE \n",
      "[CV]  criterion=entropy, max_depth=12, max_features=2, min_samples_split=2, n_estimators=10, warm_start=TRUE, score=0.825, total=   0.1s\n",
      "[CV] criterion=entropy, max_depth=12, max_features=2, min_samples_split=2, n_estimators=10, warm_start=TRUE \n",
      "[CV]  criterion=entropy, max_depth=12, max_features=2, min_samples_split=2, n_estimators=10, warm_start=TRUE, score=0.857, total=   0.1s\n",
      "[CV] criterion=entropy, max_depth=12, max_features=2, min_samples_split=2, n_estimators=10, warm_start=TRUE \n"
     ]
    },
    {
     "name": "stderr",
     "output_type": "stream",
     "text": [
      "[Parallel(n_jobs=1)]: Using backend SequentialBackend with 1 concurrent workers.\n",
      "[Parallel(n_jobs=1)]: Done   1 out of   1 | elapsed:    0.1s remaining:    0.0s\n",
      "[Parallel(n_jobs=1)]: Done   2 out of   2 | elapsed:    0.2s remaining:    0.0s\n"
     ]
    },
    {
     "name": "stdout",
     "output_type": "stream",
     "text": [
      "[CV]  criterion=entropy, max_depth=12, max_features=2, min_samples_split=2, n_estimators=10, warm_start=TRUE, score=0.850, total=   0.1s\n",
      "[CV] criterion=entropy, max_depth=12, max_features=2, min_samples_split=2, n_estimators=10, warm_start=TRUE \n",
      "[CV]  criterion=entropy, max_depth=12, max_features=2, min_samples_split=2, n_estimators=10, warm_start=TRUE, score=0.852, total=   0.1s\n",
      "[CV] criterion=entropy, max_depth=12, max_features=2, min_samples_split=2, n_estimators=10, warm_start=TRUE \n",
      "[CV]  criterion=entropy, max_depth=12, max_features=2, min_samples_split=2, n_estimators=10, warm_start=TRUE, score=0.842, total=   0.1s\n",
      "[CV] criterion=entropy, max_depth=12, max_features=2, min_samples_split=2, n_estimators=10, warm_start=TRUE \n",
      "[CV]  criterion=entropy, max_depth=12, max_features=2, min_samples_split=2, n_estimators=10, warm_start=TRUE, score=0.848, total=   0.1s\n",
      "[CV] criterion=entropy, max_depth=12, max_features=2, min_samples_split=5, n_estimators=10, warm_start=TRUE \n",
      "[CV]  criterion=entropy, max_depth=12, max_features=2, min_samples_split=5, n_estimators=10, warm_start=TRUE, score=0.834, total=   0.1s\n",
      "[CV] criterion=entropy, max_depth=12, max_features=2, min_samples_split=5, n_estimators=10, warm_start=TRUE \n",
      "[CV]  criterion=entropy, max_depth=12, max_features=2, min_samples_split=5, n_estimators=10, warm_start=TRUE, score=0.838, total=   0.1s\n",
      "[CV] criterion=entropy, max_depth=12, max_features=2, min_samples_split=5, n_estimators=10, warm_start=TRUE \n",
      "[CV]  criterion=entropy, max_depth=12, max_features=2, min_samples_split=5, n_estimators=10, warm_start=TRUE, score=0.859, total=   0.1s\n",
      "[CV] criterion=entropy, max_depth=12, max_features=2, min_samples_split=5, n_estimators=10, warm_start=TRUE \n",
      "[CV]  criterion=entropy, max_depth=12, max_features=2, min_samples_split=5, n_estimators=10, warm_start=TRUE, score=0.839, total=   0.1s\n",
      "[CV] criterion=entropy, max_depth=12, max_features=2, min_samples_split=5, n_estimators=10, warm_start=TRUE \n",
      "[CV]  criterion=entropy, max_depth=12, max_features=2, min_samples_split=5, n_estimators=10, warm_start=TRUE, score=0.845, total=   0.1s\n",
      "[CV] criterion=entropy, max_depth=12, max_features=2, min_samples_split=5, n_estimators=10, warm_start=TRUE \n",
      "[CV]  criterion=entropy, max_depth=12, max_features=2, min_samples_split=5, n_estimators=10, warm_start=TRUE, score=0.858, total=   0.1s\n",
      "[CV] criterion=entropy, max_depth=12, max_features=2, min_samples_split=10, n_estimators=10, warm_start=TRUE \n",
      "[CV]  criterion=entropy, max_depth=12, max_features=2, min_samples_split=10, n_estimators=10, warm_start=TRUE, score=0.812, total=   0.1s\n",
      "[CV] criterion=entropy, max_depth=12, max_features=2, min_samples_split=10, n_estimators=10, warm_start=TRUE \n",
      "[CV]  criterion=entropy, max_depth=12, max_features=2, min_samples_split=10, n_estimators=10, warm_start=TRUE, score=0.844, total=   0.1s\n",
      "[CV] criterion=entropy, max_depth=12, max_features=2, min_samples_split=10, n_estimators=10, warm_start=TRUE \n",
      "[CV]  criterion=entropy, max_depth=12, max_features=2, min_samples_split=10, n_estimators=10, warm_start=TRUE, score=0.873, total=   0.1s\n",
      "[CV] criterion=entropy, max_depth=12, max_features=2, min_samples_split=10, n_estimators=10, warm_start=TRUE \n",
      "[CV]  criterion=entropy, max_depth=12, max_features=2, min_samples_split=10, n_estimators=10, warm_start=TRUE, score=0.836, total=   0.1s\n",
      "[CV] criterion=entropy, max_depth=12, max_features=2, min_samples_split=10, n_estimators=10, warm_start=TRUE \n",
      "[CV]  criterion=entropy, max_depth=12, max_features=2, min_samples_split=10, n_estimators=10, warm_start=TRUE, score=0.839, total=   0.1s\n",
      "[CV] criterion=entropy, max_depth=12, max_features=2, min_samples_split=10, n_estimators=10, warm_start=TRUE \n",
      "[CV]  criterion=entropy, max_depth=12, max_features=2, min_samples_split=10, n_estimators=10, warm_start=TRUE, score=0.881, total=   0.1s\n",
      "[CV] criterion=entropy, max_depth=12, max_features=4, min_samples_split=2, n_estimators=10, warm_start=TRUE \n",
      "[CV]  criterion=entropy, max_depth=12, max_features=4, min_samples_split=2, n_estimators=10, warm_start=TRUE, score=0.838, total=   0.1s\n",
      "[CV] criterion=entropy, max_depth=12, max_features=4, min_samples_split=2, n_estimators=10, warm_start=TRUE \n",
      "[CV]  criterion=entropy, max_depth=12, max_features=4, min_samples_split=2, n_estimators=10, warm_start=TRUE, score=0.851, total=   0.1s\n",
      "[CV] criterion=entropy, max_depth=12, max_features=4, min_samples_split=2, n_estimators=10, warm_start=TRUE \n",
      "[CV]  criterion=entropy, max_depth=12, max_features=4, min_samples_split=2, n_estimators=10, warm_start=TRUE, score=0.863, total=   0.1s\n",
      "[CV] criterion=entropy, max_depth=12, max_features=4, min_samples_split=2, n_estimators=10, warm_start=TRUE \n",
      "[CV]  criterion=entropy, max_depth=12, max_features=4, min_samples_split=2, n_estimators=10, warm_start=TRUE, score=0.862, total=   0.1s\n",
      "[CV] criterion=entropy, max_depth=12, max_features=4, min_samples_split=2, n_estimators=10, warm_start=TRUE \n",
      "[CV]  criterion=entropy, max_depth=12, max_features=4, min_samples_split=2, n_estimators=10, warm_start=TRUE, score=0.845, total=   0.1s\n",
      "[CV] criterion=entropy, max_depth=12, max_features=4, min_samples_split=2, n_estimators=10, warm_start=TRUE \n",
      "[CV]  criterion=entropy, max_depth=12, max_features=4, min_samples_split=2, n_estimators=10, warm_start=TRUE, score=0.865, total=   0.1s\n",
      "[CV] criterion=entropy, max_depth=12, max_features=4, min_samples_split=5, n_estimators=10, warm_start=TRUE \n",
      "[CV]  criterion=entropy, max_depth=12, max_features=4, min_samples_split=5, n_estimators=10, warm_start=TRUE, score=0.825, total=   0.1s\n",
      "[CV] criterion=entropy, max_depth=12, max_features=4, min_samples_split=5, n_estimators=10, warm_start=TRUE \n",
      "[CV]  criterion=entropy, max_depth=12, max_features=4, min_samples_split=5, n_estimators=10, warm_start=TRUE, score=0.847, total=   0.1s\n",
      "[CV] criterion=entropy, max_depth=12, max_features=4, min_samples_split=5, n_estimators=10, warm_start=TRUE \n",
      "[CV]  criterion=entropy, max_depth=12, max_features=4, min_samples_split=5, n_estimators=10, warm_start=TRUE, score=0.840, total=   0.1s\n",
      "[CV] criterion=entropy, max_depth=12, max_features=4, min_samples_split=5, n_estimators=10, warm_start=TRUE \n",
      "[CV]  criterion=entropy, max_depth=12, max_features=4, min_samples_split=5, n_estimators=10, warm_start=TRUE, score=0.852, total=   0.1s\n",
      "[CV] criterion=entropy, max_depth=12, max_features=4, min_samples_split=5, n_estimators=10, warm_start=TRUE \n",
      "[CV]  criterion=entropy, max_depth=12, max_features=4, min_samples_split=5, n_estimators=10, warm_start=TRUE, score=0.836, total=   0.1s\n",
      "[CV] criterion=entropy, max_depth=12, max_features=4, min_samples_split=5, n_estimators=10, warm_start=TRUE \n",
      "[CV]  criterion=entropy, max_depth=12, max_features=4, min_samples_split=5, n_estimators=10, warm_start=TRUE, score=0.861, total=   0.1s\n",
      "[CV] criterion=entropy, max_depth=12, max_features=4, min_samples_split=10, n_estimators=10, warm_start=TRUE \n",
      "[CV]  criterion=entropy, max_depth=12, max_features=4, min_samples_split=10, n_estimators=10, warm_start=TRUE, score=0.841, total=   0.1s\n",
      "[CV] criterion=entropy, max_depth=12, max_features=4, min_samples_split=10, n_estimators=10, warm_start=TRUE \n",
      "[CV]  criterion=entropy, max_depth=12, max_features=4, min_samples_split=10, n_estimators=10, warm_start=TRUE, score=0.860, total=   0.1s\n",
      "[CV] criterion=entropy, max_depth=12, max_features=4, min_samples_split=10, n_estimators=10, warm_start=TRUE \n",
      "[CV]  criterion=entropy, max_depth=12, max_features=4, min_samples_split=10, n_estimators=10, warm_start=TRUE, score=0.856, total=   0.1s\n",
      "[CV] criterion=entropy, max_depth=12, max_features=4, min_samples_split=10, n_estimators=10, warm_start=TRUE \n",
      "[CV]  criterion=entropy, max_depth=12, max_features=4, min_samples_split=10, n_estimators=10, warm_start=TRUE, score=0.862, total=   0.1s\n",
      "[CV] criterion=entropy, max_depth=12, max_features=4, min_samples_split=10, n_estimators=10, warm_start=TRUE \n",
      "[CV]  criterion=entropy, max_depth=12, max_features=4, min_samples_split=10, n_estimators=10, warm_start=TRUE, score=0.822, total=   0.1s\n",
      "[CV] criterion=entropy, max_depth=12, max_features=4, min_samples_split=10, n_estimators=10, warm_start=TRUE \n",
      "[CV]  criterion=entropy, max_depth=12, max_features=4, min_samples_split=10, n_estimators=10, warm_start=TRUE, score=0.878, total=   0.1s\n",
      "Accuracy: 0.8464052287581699\n",
      "              precision    recall  f1-score   support\n",
      "\n",
      "           0       0.98      0.92      0.95       434\n",
      "           1       0.69      0.70      0.69       129\n",
      "           2       0.42      0.63      0.51        30\n",
      "           3       0.48      0.62      0.54        16\n",
      "           4       0.00      0.00      0.00         2\n",
      "           5       0.00      0.00      0.00         1\n",
      "\n",
      "    accuracy                           0.85       612\n",
      "   macro avg       0.43      0.48      0.45       612\n",
      "weighted avg       0.87      0.85      0.86       612\n",
      "\n"
     ]
    },
    {
     "name": "stderr",
     "output_type": "stream",
     "text": [
      "[Parallel(n_jobs=1)]: Done  36 out of  36 | elapsed:    3.6s finished\n"
     ]
    },
    {
     "data": {
      "text/plain": [
       "Text(91.68, 0.5, 'Valor real')"
      ]
     },
     "execution_count": 35,
     "metadata": {},
     "output_type": "execute_result"
    },
    {
     "data": {
      "image/png": "[encoded data removed]",
      "text/plain": [
       "<Figure size 432x288 with 1 Axes>"
      ]
     },
     "metadata": {
      "needs_background": "light"
     },
     "output_type": "display_data"
    }
   ],
   "source": [
    "#np.where(np.isnan(data))\n",
    "from sklearn.model_selection import GridSearchCV\n",
    "classifier = RandomForestClassifier() \n",
    "hyper_param_grid = {'n_estimators': [10],#[1,10,100,1000,10000], \n",
    "                    'max_depth': [12],#5,10,20,50,100], \n",
    "                    'max_features': [2,4],#['sqrt','log2'],\n",
    "                    'min_samples_split': [2,5,10],\n",
    "                    'criterion':['entropy'],\n",
    "                    #'class_weight':['balanced'],\n",
    "                    'warm_start' :['TRUE']\n",
    "                   },\n",
    "\n",
    "\n",
    "grid_search = GridSearchCV(classifier, hyper_param_grid, cv = 6, verbose = 3)\n",
    "grid_search.fit(X_train, y_train)\n",
    "\n",
    "#grid_search.best_params_\n",
    "#grid_search.best_score_\n",
    "\n",
    "y_model_forest = grid_search.predict(X_test)\n",
    "\n",
    "## Accuracy\n",
    "from sklearn.metrics import accuracy_score\n",
    "print(\"Accuracy: {}\".format(accuracy_score(y_test, y_model_forest)))\n",
    "\n",
    "## Métricas clasicas de Clasificadores\n",
    "from sklearn import metrics\n",
    "print(metrics.classification_report(y_model_forest, y_test))\n",
    "\n",
    "## Matriz de confusión\n",
    "from sklearn.metrics import confusion_matrix\n",
    "\n",
    "mat = confusion_matrix(y_test, y_model_forest)\n",
    "\n",
    "plt.close()\n",
    "\n",
    "sns.heatmap(mat, square = True, annot = True, cbar = False)\n",
    "plt.xlabel('Valor predicho')\n",
    "plt.ylabel('Valor real')"
   ]
  },
  {
   "cell_type": "code",
   "execution_count": 125,
   "metadata": {},
   "outputs": [
    {
     "data": {
      "text/plain": [
       "{'criterion': 'entropy',\n",
       " 'max_depth': 12,\n",
       " 'max_features': 16,\n",
       " 'min_samples_split': 5,\n",
       " 'n_estimators': 100,\n",
       " 'warm_start': 'TRUE'}"
      ]
     },
     "execution_count": 125,
     "metadata": {},
     "output_type": "execute_result"
    }
   ],
   "source": [
    "grid_search.best_params_"
   ]
  },
  {
   "cell_type": "code",
   "execution_count": null,
   "metadata": {},
   "outputs": [],
   "source": []
  },
  {
   "cell_type": "markdown",
   "metadata": {},
   "source": [
    "### Naive Bayes"
   ]
  },
  {
   "cell_type": "code",
   "execution_count": 36,
   "metadata": {},
   "outputs": [
    {
     "name": "stdout",
     "output_type": "stream",
     "text": [
      "Accuracy: 0.7924836601307189\n",
      "              precision    recall  f1-score   support\n",
      "\n",
      "           0       0.90      0.90      0.90       408\n",
      "           1       0.63      0.61      0.62       135\n",
      "           2       0.51      0.61      0.55        38\n",
      "           3       0.57      0.48      0.52        25\n",
      "           4       0.00      0.00      0.00         3\n",
      "           5       0.00      0.00      0.00         3\n",
      "\n",
      "    accuracy                           0.79       612\n",
      "   macro avg       0.44      0.43      0.43       612\n",
      "weighted avg       0.79      0.79      0.79       612\n",
      "\n"
     ]
    },
    {
     "data": {
      "text/plain": [
       "Text(91.68, 0.5, 'Valor real')"
      ]
     },
     "execution_count": 36,
     "metadata": {},
     "output_type": "execute_result"
    },
    {
     "data": {
      "image/png": "[encoded data removed]",
      "text/plain": [
       "<Figure size 432x288 with 1 Axes>"
      ]
     },
     "metadata": {
      "needs_background": "light"
     },
     "output_type": "display_data"
    }
   ],
   "source": [
    "from sklearn.naive_bayes import GaussianNB\n",
    "gnb = GaussianNB()\n",
    "model_gnb = gnb.fit(X_train, y_train)\n",
    "y_model_gnb = model_gnb.predict(X_test)\n",
    "\n",
    "## Accuracy\n",
    "from sklearn.metrics import accuracy_score\n",
    "print(\"Accuracy: {}\".format(accuracy_score(y_test, y_model_gnb)))\n",
    "\n",
    "## Métricas clasicas de Clasificadores\n",
    "from sklearn import metrics\n",
    "print(metrics.classification_report(y_model_gnb, y_test))\n",
    "\n",
    "## Matriz de confusión\n",
    "from sklearn.metrics import confusion_matrix\n",
    "\n",
    "mat = confusion_matrix(y_test, y_model_gnb)\n",
    "\n",
    "plt.close()\n",
    "\n",
    "sns.heatmap(mat, square = True, annot = True, cbar = False)\n",
    "plt.xlabel('Valor predicho')\n",
    "plt.ylabel('Valor real')\n"
   ]
  },
  {
   "cell_type": "code",
   "execution_count": null,
   "metadata": {},
   "outputs": [],
   "source": []
  },
  {
   "cell_type": "code",
   "execution_count": 24,
   "metadata": {},
   "outputs": [
    {
     "data": {
      "image/png": "[encoded data removed]",
      "text/plain": [
       "<Figure size 432x288 with 1 Axes>"
      ]
     },
     "metadata": {
      "needs_background": "light"
     },
     "output_type": "display_data"
    }
   ],
   "source": [
    "# generate some random data for demonstration purpose, use your original dataset here\n",
    "X = np.random.rand(1000,100)     # 1000 x 100 data\n",
    "y = np.random.rand(1000).round() # 0, 1 labels\n",
    "\n",
    "from xgboost import XGBClassifier\n",
    "from sklearn.model_selection import train_test_split\n",
    "from sklearn.metrics import accuracy_score\n",
    "seed=0\n",
    "test_size=0.30\n",
    "X_train, X_test, y_train, y_test = train_test_split(X,y,test_size=test_size, random_state=seed)\n",
    "from xgboost import XGBClassifier\n",
    "model = XGBClassifier()\n",
    "model.fit(X_train, y_train)\n",
    "import matplotlib.pylab as plt\n",
    "from matplotlib import pyplot\n",
    "from xgboost import plot_importance\n",
    "plot_importance(model, max_num_features=10) # top 10 most important features\n",
    "plt.show()"
   ]
  }
 ],
 "metadata": {
  "kernelspec": {
   "display_name": "Python 3",
   "language": "python",
   "name": "python3"
  },
  "language_info": {
   "codemirror_mode": {
    "name": "ipython",
    "version": 3
   },
   "file_extension": ".py",
   "mimetype": "text/x-python",
   "name": "python",
   "nbconvert_exporter": "python",
   "pygments_lexer": "ipython3",
   "version": "3.7.3"
  }
 },
 "nbformat": 4,
 "nbformat_minor": 4
}
